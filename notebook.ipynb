{
 "cells": [
  {
   "cell_type": "code",
   "execution_count": 1,
   "metadata": {},
   "outputs": [
    {
     "data": {
      "text/plain": [
       "GeneticConfig(population_size=1, gene_length=10, elite_percent=0.2, padding_percent=0.2, mutation_rate=0.01, maximize_fitness=True)"
      ]
     },
     "execution_count": 1,
     "metadata": {},
     "output_type": "execute_result"
    }
   ],
   "source": [
    "from genetic_modules.genetic_config import GeneticConfig\n",
    "\n",
    "config = GeneticConfig(population_size=1)\n",
    "\n",
    "config"
   ]
  },
  {
   "cell_type": "code",
   "execution_count": null,
   "metadata": {},
   "outputs": [
    {
     "name": "stdout",
     "output_type": "stream",
     "text": [
      "2\n",
      "CacheInfo(hits=3, misses=6, maxsize=None, currsize=6)\n"
     ]
    }
   ],
   "source": [
    "from genetic_modules.fitness_function import DemoFitnessFunction\n",
    "\n",
    "dfc = DemoFitnessFunction()\n",
    "print(dfc.calculate((True, False, True))) # just sums\n",
    "print(dfc.calculate.cache_info())"
   ]
  },
  {
   "cell_type": "code",
   "execution_count": 15,
   "metadata": {},
   "outputs": [
    {
     "name": "stdout",
     "output_type": "stream",
     "text": [
      "True\n",
      "True\n"
     ]
    },
    {
     "data": {
      "text/plain": [
       "CacheInfo(hits=1, misses=1, maxsize=None, currsize=1)"
      ]
     },
     "execution_count": 15,
     "metadata": {},
     "output_type": "execute_result"
    }
   ],
   "source": [
    "from functools import cache\n",
    "from typing import Tuple\n",
    "import time\n",
    "\n",
    "@cache\n",
    "def test(n: Tuple[bool]):\n",
    "    time.sleep(2)\n",
    "    return True\n",
    "\n",
    "print(test((True, False, True)))\n",
    "print(test((True, False, True))) # this should instantly print True if caching enabled\n",
    "\n",
    "test.cache_info()"
   ]
  },
  {
   "cell_type": "code",
   "execution_count": 9,
   "metadata": {},
   "outputs": [
    {
     "name": "stdout",
     "output_type": "stream",
     "text": [
      "[3, 2, 1]\n"
     ]
    }
   ],
   "source": [
    "test = [1,2,3]\n",
    "\n",
    "test.sort(key=lambda g: g, reverse=True) # sort by fitness test\n",
    "\n",
    "print(test)"
   ]
  },
  {
   "cell_type": "code",
   "execution_count": 22,
   "metadata": {},
   "outputs": [
    {
     "data": {
      "text/plain": [
       "1"
      ]
     },
     "execution_count": 22,
     "metadata": {},
     "output_type": "execute_result"
    }
   ],
   "source": [
    "from typing import TypeVar, Tuple\n",
    "\n",
    "Gene = TypeVar(\"Gene\", bound=Tuple[bool, ...])\n",
    "\n",
    "# Gene = Tuple[bool, ...]\n",
    "\n",
    "def a(b: Gene) -> Gene:\n",
    "    return b\n",
    "\n",
    "a(1)"
   ]
  }
 ],
 "metadata": {
  "kernelspec": {
   "display_name": ".venv",
   "language": "python",
   "name": "python3"
  },
  "language_info": {
   "codemirror_mode": {
    "name": "ipython",
    "version": 3
   },
   "file_extension": ".py",
   "mimetype": "text/x-python",
   "name": "python",
   "nbconvert_exporter": "python",
   "pygments_lexer": "ipython3",
   "version": "3.11.1"
  }
 },
 "nbformat": 4,
 "nbformat_minor": 2
}
