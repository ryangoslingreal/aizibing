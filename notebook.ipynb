{
 "cells": [
  {
   "cell_type": "code",
   "execution_count": 3,
   "metadata": {},
   "outputs": [
    {
     "data": {
      "text/plain": [
       "GeneticConfig(population_size=1, gene_length=10, elite_percent=0.2, padding_percent=0.2, mutation_rate=0.01, maximize_fitness=True)"
      ]
     },
     "execution_count": 3,
     "metadata": {},
     "output_type": "execute_result"
    }
   ],
   "source": [
    "from genetic_modules.genetic_config import GeneticConfig\n",
    "\n",
    "config = GeneticConfig(population_size=1)\n",
    "\n",
    "config"
   ]
  },
  {
   "cell_type": "code",
   "execution_count": 4,
   "metadata": {},
   "outputs": [
    {
     "name": "stdout",
     "output_type": "stream",
     "text": [
      "2\n",
      "CacheInfo(hits=0, misses=1, maxsize=None, currsize=1)\n"
     ]
    }
   ],
   "source": [
    "from genetic_modules.fitness_function import DemoFitnessFunction\n",
    "\n",
    "dfc = DemoFitnessFunction()\n",
    "print(dfc.calculate((True, False, True))) # just sums\n",
    "print(dfc.calculate.cache_info())"
   ]
  },
  {
   "cell_type": "code",
   "execution_count": null,
   "metadata": {},
   "outputs": [],
   "source": [
    "from functools import cache\n",
    "from typing import Tuple\n",
    "import time\n",
    "\n",
    "@cache\n",
    "def test(n: Tuple[bool]):\n",
    "    time.sleep(2)\n",
    "    return True\n",
    "\n",
    "print(test((True, False, True)))\n",
    "print(test((True, False, True))) # this should instantly print True if caching enabled\n",
    "\n",
    "test.cache_info()"
   ]
  },
  {
   "cell_type": "code",
   "execution_count": null,
   "metadata": {},
   "outputs": [
    {
     "name": "stdout",
     "output_type": "stream",
     "text": [
      "1\n"
     ]
    }
   ],
   "source": [
    "def create_gene(data):\n",
    "    pass\n",
    "\n",
    "# need to define what creates a gene, then let data_pipe randomly generate genes\n",
    "\n",
    "class a:\n",
    "    def __init__(self, a):\n",
    "        self.a =a\n",
    "\n",
    "    def b(self):\n",
    "        print(self.a)\n",
    "\n",
    "b = a(a=1)\n",
    "b.b()"
   ]
  },
  {
   "cell_type": "code",
   "execution_count": null,
   "metadata": {},
   "outputs": [
    {
     "name": "stdout",
     "output_type": "stream",
     "text": [
      "call\n"
     ]
    }
   ],
   "source": [
    "from functools import cache\n",
    "\n",
    "class test_again:\n",
    "    @cache\n",
    "    def __call__(self, *args, **kwds):\n",
    "        print(\"call\")\n",
    "        pass\n",
    "\n",
    "test_obj = test_again()\n",
    "test_obj()"
   ]
  },
  {
   "cell_type": "code",
   "execution_count": 42,
   "metadata": {},
   "outputs": [
    {
     "name": "stdout",
     "output_type": "stream",
     "text": [
      "[(False, False), (False, False), (False, True), (True, True), (True, True), (5, 2)]\n"
     ]
    }
   ],
   "source": [
    "%reload_ext autoreload\n",
    "%autoreload\n",
    "\n",
    "from genetic_modules.population_stream import PopulationStream\n",
    "from genetic_modules.fitness_function import DemoFitnessFunction\n",
    "from genetic_modules.genetic_config import GeneticConfig\n",
    "from genetic_modules.genetic_system import GeneticSystem\n",
    "\n",
    "gs = GeneticSystem(GeneticConfig(population_size=10, gene_length=2, elite_percent=0.50), PopulationStream(), DemoFitnessFunction())\n",
    "\n",
    "gs.step()"
   ]
  },
  {
   "cell_type": "markdown",
   "metadata": {},
   "source": [
    "**to-do:**\n",
    "\n",
    "Diversity of population = **Hamming Distance**. Sample population for estimate (as it is computationally expensive O(n^2) ). _Exploration vs Exploitation_\n",
    "maybe calculate once every few gens ... \n",
    "- diversity changes slowly over generations (especially in older gens)\n",
    "- reduces computation\n",
    "- would bring some fun hyperparams to implement... argh may need to create better hyperparam class!!!! \n",
    "\n",
    "(_Variable Mutation Rate_ basically... less diverse = more mutations. more diverse = less mutations) - we will want to target a specific 'diversity' value\n",
    "\n",
    "^ dont bother calculating diversity if short genes, or small pop\n",
    "\n",
    "\n",
    "\n",
    "**Quality - Diversity approach** is interesting - maybe look at in future     https://quality-diversity.github.io/\n",
    "\n",
    "\n",
    "\n",
    "We want to `AVOID PREMATURE CONVERGENCES`.\n",
    " i.e we don't want to narrow down instantly without exploring better paths first!\n",
    " ^ this is simple to overlook with a simple demo to maximise 1s in genes\n",
    "\n",
    "\n",
    "For guaranteed exploration early, and exploitation late,\n",
    "\n",
    "What about, alternative to padding,\n",
    "* **Linear decay of mutation value** \n",
    "i.e first few gens, high mutation rates - decreases linearly over time\n",
    "\n",
    "maybe then after that's become trivial, introduce padding (maybe start once every few gens, then approach every gen)???\n",
    "\n",
    "\n",
    "\n",
    "**population of our GA is actually independent of dataset** - it's completely up to us\n",
    "larger pop = better diversity 'pools'\n",
    "\n",
    "\n",
    "\n",
    "\n",
    "in future, maybe `encode attributes into our genes`\n",
    "some attributes may only perform well with specific values\n",
    "if we can breed with _successful value_'d attributes, may lead to more in-depth **discovery** & **_hidden relationships_**"
   ]
  }
 ],
 "metadata": {
  "kernelspec": {
   "display_name": ".venv",
   "language": "python",
   "name": "python3"
  },
  "language_info": {
   "codemirror_mode": {
    "name": "ipython",
    "version": 3
   },
   "file_extension": ".py",
   "mimetype": "text/x-python",
   "name": "python",
   "nbconvert_exporter": "python",
   "pygments_lexer": "ipython3",
   "version": "3.11.1"
  }
 },
 "nbformat": 4,
 "nbformat_minor": 2
}
