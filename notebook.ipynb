{
 "cells": [
  {
   "cell_type": "code",
   "execution_count": null,
   "metadata": {},
   "outputs": [
    {
     "data": {
      "text/plain": [
       "GeneticConfig(population_size=1, gene_length=10, elite_percent=0.2, padding_percent=0.2, mutation_rate=0.01, maximize_fitness=True)"
      ]
     },
     "execution_count": 1,
     "metadata": {},
     "output_type": "execute_result"
    }
   ],
   "source": [
    "from genetic_modules.genetic_config import GeneticConfig\n",
    "\n",
    "config = GeneticConfig(population_size=1)\n",
    "\n",
    "config"
   ]
  },
  {
   "cell_type": "code",
   "execution_count": 2,
   "metadata": {},
   "outputs": [
    {
     "name": "stdout",
     "output_type": "stream",
     "text": [
      "2\n",
      "CacheInfo(hits=0, misses=1, maxsize=None, currsize=1)\n"
     ]
    }
   ],
   "source": [
    "from genetic_modules.fitness_function import DemoFitnessFunction\n",
    "\n",
    "dfc = DemoFitnessFunction()\n",
    "print(dfc.calculate((True, False, True))) # just sums\n",
    "print(dfc.calculate.cache_info())"
   ]
  },
  {
   "cell_type": "code",
   "execution_count": null,
   "metadata": {},
   "outputs": [
    {
     "name": "stdout",
     "output_type": "stream",
     "text": [
      "True\n",
      "True\n"
     ]
    },
    {
     "data": {
      "text/plain": [
       "CacheInfo(hits=1, misses=1, maxsize=None, currsize=1)"
      ]
     },
     "execution_count": 4,
     "metadata": {},
     "output_type": "execute_result"
    }
   ],
   "source": [
    "from functools import cache\n",
    "from typing import Tuple\n",
    "import time\n",
    "\n",
    "@cache\n",
    "def test(n: Tuple[bool]):\n",
    "    time.sleep(2)\n",
    "    return True\n",
    "\n",
    "print(test((True, False, True)))\n",
    "print(test((True, False, True))) # this should instantly print True if caching enabled\n",
    "\n",
    "test.cache_info()"
   ]
  },
  {
   "cell_type": "code",
   "execution_count": 5,
   "metadata": {},
   "outputs": [
    {
     "name": "stdout",
     "output_type": "stream",
     "text": [
      "[3, 2, 1]\n"
     ]
    }
   ],
   "source": [
    "test = [1,2,3]\n",
    "\n",
    "test.sort(key=lambda g: g, reverse=True) # sort by fitness test\n",
    "\n",
    "print(test)"
   ]
  },
  {
   "cell_type": "code",
   "execution_count": 25,
   "metadata": {},
   "outputs": [
    {
     "name": "stdout",
     "output_type": "stream",
     "text": [
      "1\n"
     ]
    }
   ],
   "source": [
    "def create_gene(data):\n",
    "    pass\n",
    "\n",
    "# need to define what creates a gene, then let data_pipe randomly generate genes\n",
    "\n",
    "class a:\n",
    "    def __init__(self, a):\n",
    "        self.a =a\n",
    "\n",
    "    def b(self):\n",
    "        print(self.a)\n",
    "\n",
    "b = a(a=1)\n",
    "b.b()"
   ]
  },
  {
   "cell_type": "code",
   "execution_count": 6,
   "metadata": {},
   "outputs": [
    {
     "name": "stdout",
     "output_type": "stream",
     "text": [
      "call\n"
     ]
    }
   ],
   "source": [
    "from functools import cache\n",
    "\n",
    "class test_again:\n",
    "    @cache\n",
    "    def __call__(self, *args, **kwds):\n",
    "        print(\"call\")\n",
    "        pass\n",
    "\n",
    "test_obj = test_again()\n",
    "test_obj()"
   ]
  },
  {
   "cell_type": "code",
   "execution_count": 1,
   "metadata": {},
   "outputs": [
    {
     "name": "stdout",
     "output_type": "stream",
     "text": [
      "yooo add_gene\n"
     ]
    },
    {
     "ename": "TypeError",
     "evalue": "'NoneType' object is not callable",
     "output_type": "error",
     "traceback": [
      "\u001b[1;31m---------------------------------------------------------------------------\u001b[0m",
      "\u001b[1;31mTypeError\u001b[0m                                 Traceback (most recent call last)",
      "Cell \u001b[1;32mIn[1], line 6\u001b[0m\n\u001b[0;32m      3\u001b[0m \u001b[38;5;28;01mfrom\u001b[39;00m\u001b[38;5;250m \u001b[39m\u001b[38;5;21;01mgenetic_modules\u001b[39;00m\u001b[38;5;21;01m.\u001b[39;00m\u001b[38;5;21;01mgenetic_config\u001b[39;00m\u001b[38;5;250m \u001b[39m\u001b[38;5;28;01mimport\u001b[39;00m GeneticConfig\n\u001b[0;32m      4\u001b[0m \u001b[38;5;28;01mfrom\u001b[39;00m\u001b[38;5;250m \u001b[39m\u001b[38;5;21;01mgenetic_modules\u001b[39;00m\u001b[38;5;21;01m.\u001b[39;00m\u001b[38;5;21;01mgenetic_system\u001b[39;00m\u001b[38;5;250m \u001b[39m\u001b[38;5;28;01mimport\u001b[39;00m GeneticSystem\n\u001b[1;32m----> 6\u001b[0m gs \u001b[38;5;241m=\u001b[39m \u001b[43mGeneticSystem\u001b[49m\u001b[43m(\u001b[49m\u001b[43mGeneticConfig\u001b[49m\u001b[43m(\u001b[49m\u001b[43m)\u001b[49m\u001b[43m,\u001b[49m\u001b[43m \u001b[49m\u001b[43mPopulationStream\u001b[49m\u001b[43m(\u001b[49m\u001b[43m)\u001b[49m\u001b[43m,\u001b[49m\u001b[43m \u001b[49m\u001b[43mDemoFitnessFunction\u001b[49m\u001b[43m(\u001b[49m\u001b[43m)\u001b[49m\u001b[43m)\u001b[49m\n\u001b[0;32m      7\u001b[0m \u001b[38;5;66;03m#print(gs)\u001b[39;00m\n\u001b[0;32m      9\u001b[0m gs\u001b[38;5;241m.\u001b[39mstep()\n",
      "File \u001b[1;32mc:\\Users\\Nicholas\\OneDrive - University of Kent\\secondyear\\Projects\\pydemo1\\aizibing\\genetic_modules\\genetic_system.py:17\u001b[0m, in \u001b[0;36mGeneticSystem.__init__\u001b[1;34m(self, config, population_stream, fitness_function)\u001b[0m\n\u001b[0;32m     14\u001b[0m \u001b[38;5;28mself\u001b[39m\u001b[38;5;241m.\u001b[39mrand \u001b[38;5;241m=\u001b[39m random\u001b[38;5;241m.\u001b[39mRandom(config\u001b[38;5;241m.\u001b[39mseed) \u001b[38;5;66;03m# either pass rand thru or initialise here ? surely here is better - but just means things can't be passed thru that use rand... maybe can pass rand as a param there\u001b[39;00m\n\u001b[0;32m     16\u001b[0m \u001b[38;5;66;03m# initialise population\u001b[39;00m\n\u001b[1;32m---> 17\u001b[0m \u001b[38;5;28mself\u001b[39m\u001b[38;5;241m.\u001b[39mpopulation \u001b[38;5;241m=\u001b[39m \u001b[43mpopulation_stream\u001b[49m\u001b[38;5;241;43m.\u001b[39;49m\u001b[43minitialise\u001b[49m\u001b[43m(\u001b[49m\u001b[43mconfig\u001b[49m\u001b[43m,\u001b[49m\u001b[43m \u001b[49m\u001b[43mfitness_function\u001b[49m\u001b[43m,\u001b[49m\u001b[43m \u001b[49m\u001b[38;5;28;43mself\u001b[39;49m\u001b[38;5;241;43m.\u001b[39;49m\u001b[43mrand\u001b[49m\u001b[43m)\u001b[49m\n\u001b[0;32m     19\u001b[0m \u001b[38;5;28mself\u001b[39m\u001b[38;5;241m.\u001b[39melite_threshold \u001b[38;5;241m=\u001b[39m \u001b[38;5;28mint\u001b[39m(config\u001b[38;5;241m.\u001b[39mpopulation_size \u001b[38;5;241m*\u001b[39m config\u001b[38;5;241m.\u001b[39melite_percent)\n\u001b[0;32m     20\u001b[0m \u001b[38;5;28mself\u001b[39m\u001b[38;5;241m.\u001b[39mpadding_threshold \u001b[38;5;241m=\u001b[39m config\u001b[38;5;241m.\u001b[39mpopulation_size \u001b[38;5;241m-\u001b[39m \u001b[38;5;28mint\u001b[39m(config\u001b[38;5;241m.\u001b[39mpopulation_size \u001b[38;5;241m*\u001b[39m config\u001b[38;5;241m.\u001b[39mpadding_percent)\n",
      "File \u001b[1;32mc:\\Users\\Nicholas\\OneDrive - University of Kent\\secondyear\\Projects\\pydemo1\\aizibing\\genetic_modules\\population_stream.py:25\u001b[0m, in \u001b[0;36mPopulationStream.initialise\u001b[1;34m(self, config, fitness_function, rand)\u001b[0m\n\u001b[0;32m     23\u001b[0m \u001b[38;5;28;01mfor\u001b[39;00m _ \u001b[38;5;129;01min\u001b[39;00m \u001b[38;5;28mrange\u001b[39m (config\u001b[38;5;241m.\u001b[39mpopulation_size):\n\u001b[0;32m     24\u001b[0m     gene \u001b[38;5;241m=\u001b[39m \u001b[38;5;28mtuple\u001b[39m(rand\u001b[38;5;241m.\u001b[39mchoice([\u001b[38;5;28;01mTrue\u001b[39;00m, \u001b[38;5;28;01mFalse\u001b[39;00m]) \u001b[38;5;28;01mfor\u001b[39;00m _ \u001b[38;5;129;01min\u001b[39;00m \u001b[38;5;28mrange\u001b[39m(config\u001b[38;5;241m.\u001b[39mgene_length))\n\u001b[1;32m---> 25\u001b[0m     \u001b[38;5;28;43mself\u001b[39;49m\u001b[38;5;241;43m.\u001b[39;49m\u001b[43mpopulation\u001b[49m\u001b[38;5;241;43m.\u001b[39;49m\u001b[43madd_gene\u001b[49m\u001b[43m(\u001b[49m\u001b[43mgene\u001b[49m\u001b[43m)\u001b[49m\n\u001b[0;32m     27\u001b[0m \u001b[38;5;28;01mreturn\u001b[39;00m \u001b[38;5;28mself\u001b[39m\u001b[38;5;241m.\u001b[39mget()\n",
      "\u001b[1;31mTypeError\u001b[0m: 'NoneType' object is not callable"
     ]
    }
   ],
   "source": [
    "from genetic_modules.population_stream import PopulationStream\n",
    "from genetic_modules.fitness_function import DemoFitnessFunction\n",
    "from genetic_modules.genetic_config import GeneticConfig\n",
    "from genetic_modules.genetic_system import GeneticSystem\n",
    "\n",
    "gs = GeneticSystem(GeneticConfig(), PopulationStream(), DemoFitnessFunction())\n",
    "#print(gs)\n",
    "\n",
    "gs.step()\n",
    "\n",
    "\n",
    "# randomly generate tuple of random true & false\n",
    "#def create_gene_func():\n",
    " #   return [rand.choice([True, False]) for _ in range()]"
   ]
  },
  {
   "cell_type": "markdown",
   "metadata": {},
   "source": [
    "**to-do:**\n",
    "\n",
    "Diversity of population = **Hamming Distance**. Sample population for estimate (as it is computationally expensive O(n^2) ). _Exploration vs Exploitation_\n",
    "maybe calculate once every few gens ... \n",
    "- diversity changes slowly over generations (especially in older gens)\n",
    "- reduces computation\n",
    "- would bring some fun hyperparams to implement... argh may need to create better hyperparam class!!!! \n",
    "\n",
    "(_Variable Mutation Rate_ basically... less diverse = more mutations. more diverse = less mutations) - we will want to target a specific 'diversity' value\n",
    "\n",
    "^ dont bother calculating diversity if short genes, or small pop\n",
    "\n",
    "\n",
    "\n",
    "**Quality - Diversity approach** is interesting - maybe look at in future     https://quality-diversity.github.io/\n",
    "\n",
    "\n",
    "\n",
    "We want to `AVOID PREMATURE CONVERGENCES`.\n",
    " i.e we don't want to narrow down instantly without exploring better paths first!\n",
    " ^ this is simple to overlook with a simple demo to maximise 1s in genes\n",
    "\n",
    "\n",
    "For guaranteed exploration early, and exploitation late,\n",
    "\n",
    "What about, alternative to padding,\n",
    "* **Linear decay of mutation value** \n",
    "i.e first few gens, high mutation rates - decreases linearly over time\n",
    "\n",
    "maybe then after that's become trivial, introduce padding (maybe start once every few gens, then approach every gen)???\n",
    "\n",
    "\n",
    "\n",
    "**population of our GA is actually independent of dataset** - it's completely up to us\n",
    "larger pop = better diversity 'pools'\n",
    "\n",
    "\n",
    "\n",
    "\n",
    "in future, maybe `encode attributes into our genes`\n",
    "some attributes may only perform well with specific values\n",
    "if we can breed with _successful value_'d attributes, may lead to more in-depth **discovery** & **_hidden relationships_**"
   ]
  }
 ],
 "metadata": {
  "kernelspec": {
   "display_name": ".venv",
   "language": "python",
   "name": "python3"
  },
  "language_info": {
   "codemirror_mode": {
    "name": "ipython",
    "version": 3
   },
   "file_extension": ".py",
   "mimetype": "text/x-python",
   "name": "python",
   "nbconvert_exporter": "python",
   "pygments_lexer": "ipython3",
   "version": "3.11.1"
  }
 },
 "nbformat": 4,
 "nbformat_minor": 2
}
